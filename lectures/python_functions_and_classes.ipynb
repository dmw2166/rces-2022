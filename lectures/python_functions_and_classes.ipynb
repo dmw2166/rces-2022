{
 "cells": [
  {
   "cell_type": "markdown",
   "id": "f1d11abf-8df0-4172-b811-863764c48db6",
   "metadata": {},
   "source": [
    "# Python Functions (and Classes)"
   ]
  },
  {
   "cell_type": "markdown",
   "id": "aac74790-2aca-46ad-84df-01e4c735b33b",
   "metadata": {},
   "source": [
    "## Functions"
   ]
  },
  {
   "cell_type": "code",
   "execution_count": null,
   "id": "8e96a6ca-63bb-40fa-9e8b-704cbd985220",
   "metadata": {},
   "outputs": [],
   "source": []
  }
 ],
 "metadata": {
  "kernelspec": {
   "display_name": "Python 3 (ipykernel)",
   "language": "python",
   "name": "python3"
  },
  "language_info": {
   "codemirror_mode": {
    "name": "ipython",
    "version": 3
   },
   "file_extension": ".py",
   "mimetype": "text/x-python",
   "name": "python",
   "nbconvert_exporter": "python",
   "pygments_lexer": "ipython3",
   "version": "3.9.13"
  }
 },
 "nbformat": 4,
 "nbformat_minor": 5
}
